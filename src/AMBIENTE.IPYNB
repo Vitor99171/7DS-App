{
 "cells": [
  {
   "cell_type": "code",
   "execution_count": null,
   "metadata": {},
   "outputs": [
    {
     "name": "stdout",
     "output_type": "stream",
     "text": [
      "C:\\\n"
     ]
    }
   ],
   "source": [
    "cd"
   ]
  },
  {
   "cell_type": "code",
   "execution_count": 29,
   "metadata": {},
   "outputs": [],
   "source": [
    "import pandas as pd\n",
    "import sqlite3\n",
    "\n",
    "# Carregar CSV\n",
    "csv_path = 'C:/remote/App_7DS/data/TODOS_OS_BONECO_DO_NNT.csv'\n",
    "df = pd.read_csv(csv_path, sep=';')\n",
    "\n",
    "# Criar banco SQLite\n",
    "db_path = 'C:/remote/App_7DS/data/7ds_characters.db'\n",
    "conn = sqlite3.connect(db_path)\n",
    "\n",
    "df.to_sql('personagens', conn, if_exists='replace', index=False)\n",
    "conn.close()"
   ]
  },
  {
   "cell_type": "code",
   "execution_count": 30,
   "metadata": {},
   "outputs": [
    {
     "name": "stdout",
     "output_type": "stream",
     "text": [
      "\n",
      "===== Recursos Necessários =====\n",
      "🔹 Pingentes UR: 33\n",
      "🔸 Moedas SSR: 123\n",
      "🟣 Moedas de Super Despertar: 0\n",
      "⭐ Ta Coin (True Awaken): 0\n"
     ]
    }
   ],
   "source": [
    "def input_int(prompt, min_value, max_value):\n",
    "    while True:\n",
    "        valor = int(input(prompt))\n",
    "        if min_value <= valor <= max_value:\n",
    "            return valor\n",
    "        print(\"Valor inválido. Digite novamente!\")\n",
    "\n",
    "def calc_pingente(nivel_atual, nivel_alvo):\n",
    "    # pingente para cada estágio de nível\n",
    "    varpingente = [3, 6, 9, 12, 15, 18, 21, 27, 33]\n",
    "    return sum(varpingente[nivel_atual//10 - 1 : nivel_alvo//10 - 1])\n",
    "\n",
    "def calc_moedas_ssr(despertar_atual):\n",
    "    varmoedassr = [3, 6, 12, 21, 33, 48]\n",
    "    return sum(varmoedassr[despertar_atual:6])  # até despertar 6\n",
    "\n",
    "def calc_super_despertar(super_atual, super_alvo):\n",
    "    # Simplificado, cada nível consome 1 moeda de superdespertar\n",
    "    return max(0, super_alvo - super_atual)\n",
    "\n",
    "def calc_true_awaken(has_ta):\n",
    "    return 1 if has_ta else 0\n",
    "\n",
    "def main():\n",
    "    varta = [0, 1]\n",
    "\n",
    "    # Inputs principais\n",
    "    nivel_atual = input_int(\"Digite o nível atual do boneco (1-100): \", 1, 100)\n",
    "    nivel_alvo = input_int(\"Digite o nível alvo do boneco (1-100): \", 1, 100)\n",
    "    despertar_atual = input_int(\"Digite o nível de despertar atual (0-7): \", 0, 7)\n",
    "    nivel_ultimate = input_int(\"Digite o nível da ultimate (1-6): \", 1, 6)\n",
    "\n",
    "    # Super Despertar\n",
    "    super_des_atual = 0\n",
    "    super_des_alvo = 0\n",
    "    if despertar_atual >= 6:\n",
    "        super_des_atual = input_int(\"Digite o nível de super despertar atual (0-6): \", 0, 6)\n",
    "        super_des_alvo = input_int(\"Digite o nível de super despertar alvo (0-6): \", 0, 6)\n",
    "\n",
    "    # True Awaken\n",
    "    valor_true_awaken = 0\n",
    "    has_ta = False\n",
    "    if super_des_atual == 6:\n",
    "        resp_ta = input(\"O boneco possui true awaken? (s ou n): \").lower()\n",
    "        while resp_ta not in ['s', 'n']:\n",
    "            resp_ta = input(\"Por favor, insira apenas s ou n: \").lower()\n",
    "        valor_true_awaken = varta[1] if resp_ta == 's' else varta[0]\n",
    "        has_ta = True if resp_ta == 's' else False\n",
    "\n",
    "    # ===== Cálculo dos Recursos =====\n",
    "    total_pingentes = calc_pingente(nivel_atual, nivel_alvo)\n",
    "    total_moedas_ssr = calc_moedas_ssr(despertar_atual)\n",
    "    total_super_des = calc_super_despertar(super_des_atual, super_des_alvo)\n",
    "    total_ta_coin = calc_true_awaken(has_ta)\n",
    "\n",
    "    # ===== Resumo Final =====\n",
    "    print(\"\\n===== Recursos Necessários =====\")\n",
    "    print(f\"🔹 Pingentes UR: {total_pingentes}\")\n",
    "    print(f\"🔸 Moedas SSR: {total_moedas_ssr}\")\n",
    "    print(f\"🟣 Moedas de Super Despertar: {total_super_des}\")\n",
    "    print(f\"⭐ Ta Coin (True Awaken): {total_ta_coin}\")\n",
    "\n",
    "if __name__ == \"__main__\":\n",
    "    main()\n"
   ]
  }
 ],
 "metadata": {
  "kernelspec": {
   "display_name": "Python 3",
   "language": "python",
   "name": "python3"
  },
  "language_info": {
   "codemirror_mode": {
    "name": "ipython",
    "version": 3
   },
   "file_extension": ".py",
   "mimetype": "text/x-python",
   "name": "python",
   "nbconvert_exporter": "python",
   "pygments_lexer": "ipython3",
   "version": "3.11.0"
  }
 },
 "nbformat": 4,
 "nbformat_minor": 2
}
